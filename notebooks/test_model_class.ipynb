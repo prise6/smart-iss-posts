{
 "cells": [
  {
   "cell_type": "code",
   "execution_count": 1,
   "metadata": {},
   "outputs": [],
   "source": [
    "import os\n",
    "os.chdir(os.getcwd() + '/..')"
   ]
  },
  {
   "cell_type": "code",
   "execution_count": 2,
   "metadata": {},
   "outputs": [],
   "source": [
    "%load_ext autoreload\n",
    "%autoreload 2"
   ]
  },
  {
   "cell_type": "code",
   "execution_count": 3,
   "metadata": {},
   "outputs": [
    {
     "name": "stderr",
     "output_type": "stream",
     "text": [
      "Using TensorFlow backend.\n"
     ]
    }
   ],
   "source": [
    "from iss.tools.config import Config\n",
    "from iss.models.SimpleAutoEncoder import SimpleAutoEncoder\n",
    "from iss.models.ModelTrainer import ModelTrainer\n",
    "import pandas as pd\n",
    "import datetime as dt\n",
    "import time\n",
    "import numpy as np"
   ]
  },
  {
   "cell_type": "code",
   "execution_count": 28,
   "metadata": {},
   "outputs": [],
   "source": [
    "cfg = Config()"
   ]
  },
  {
   "cell_type": "markdown",
   "metadata": {},
   "source": [
    "## Model"
   ]
  },
  {
   "cell_type": "code",
   "execution_count": 5,
   "metadata": {},
   "outputs": [],
   "source": [
    "model = SimpleAutoEncoder(cfg.get('models')['simple'])"
   ]
  },
  {
   "cell_type": "code",
   "execution_count": 6,
   "metadata": {},
   "outputs": [
    {
     "name": "stdout",
     "output_type": "stream",
     "text": [
      "_________________________________________________________________\n",
      "Layer (type)                 Output Shape              Param #   \n",
      "=================================================================\n",
      "input_1 (InputLayer)         (None, 45, 80, 3)         0         \n",
      "_________________________________________________________________\n",
      "flatten_1 (Flatten)          (None, 10800)             0         \n",
      "_________________________________________________________________\n",
      "enc_1 (Dense)                (None, 2000)              21602000  \n",
      "_________________________________________________________________\n",
      "enc_2 (Dense)                (None, 100)               200100    \n",
      "_________________________________________________________________\n",
      "enc_3 (Dense)                (None, 30)                3030      \n",
      "_________________________________________________________________\n",
      "dec_1 (Dense)                (None, 100)               3100      \n",
      "_________________________________________________________________\n",
      "dec_2 (Dense)                (None, 2000)              202000    \n",
      "_________________________________________________________________\n",
      "dense_1 (Dense)              (None, 10800)             21610800  \n",
      "_________________________________________________________________\n",
      "reshape_1 (Reshape)          (None, 45, 80, 3)         0         \n",
      "=================================================================\n",
      "Total params: 43,621,030\n",
      "Trainable params: 43,621,030\n",
      "Non-trainable params: 0\n",
      "_________________________________________________________________\n"
     ]
    }
   ],
   "source": [
    "model.model.summary()"
   ]
  },
  {
   "cell_type": "code",
   "execution_count": 7,
   "metadata": {},
   "outputs": [],
   "source": [
    "model.save()"
   ]
  },
  {
   "cell_type": "markdown",
   "metadata": {},
   "source": [
    "## Collection Manager"
   ]
  },
  {
   "cell_type": "code",
   "execution_count": 8,
   "metadata": {},
   "outputs": [],
   "source": [
    "from iss.data.CollectionManager import CollectionManagerFromDirectory"
   ]
  },
  {
   "cell_type": "code",
   "execution_count": 9,
   "metadata": {},
   "outputs": [],
   "source": [
    "collection = CollectionManagerFromDirectory(config = cfg)"
   ]
  },
  {
   "cell_type": "markdown",
   "metadata": {},
   "source": [
    "## Data Loader"
   ]
  },
  {
   "cell_type": "code",
   "execution_count": 19,
   "metadata": {},
   "outputs": [],
   "source": [
    "from iss.models.DataLoader import ImageDataGeneratorWrapper"
   ]
  },
  {
   "cell_type": "code",
   "execution_count": 20,
   "metadata": {},
   "outputs": [
    {
     "name": "stdout",
     "output_type": "stream",
     "text": [
      "Found 9537 images belonging to 1 classes.\n",
      "Found 2725 images belonging to 1 classes.\n"
     ]
    }
   ],
   "source": [
    "data_loader = ImageDataGeneratorWrapper(cfg)"
   ]
  },
  {
   "cell_type": "markdown",
   "metadata": {},
   "source": [
    "## Model Trainer"
   ]
  },
  {
   "cell_type": "code",
   "execution_count": 29,
   "metadata": {},
   "outputs": [],
   "source": [
    "trainer = ModelTrainer(model, data_loader, cfg.get('models')['simple'])"
   ]
  },
  {
   "cell_type": "code",
   "execution_count": 30,
   "metadata": {},
   "outputs": [
    {
     "name": "stdout",
     "output_type": "stream",
     "text": [
      "Epoch 1/2\n",
      "10/10 [==============================] - 30s 3s/step - loss: 4.0362 - val_loss: 3.8519\n",
      "ok\n"
     ]
    },
    {
     "data": {
      "image/png": "[encoded data removed]",
      "text/plain": [
       "<PIL.Image.Image image mode=RGB size=80x45 at 0x7F16E9F40CF8>"
      ]
     },
     "metadata": {},
     "output_type": "display_data"
    },
    {
     "data": {
      "image/png": "[encoded data removed]",
      "text/plain": [
       "<PIL.Image.Image image mode=RGB size=80x45 at 0x7F16E9F40CC0>"
      ]
     },
     "metadata": {},
     "output_type": "display_data"
    },
    {
     "name": "stdout",
     "output_type": "stream",
     "text": [
      "Epoch 2/2\n",
      "10/10 [==============================] - 20s 2s/step - loss: 3.9729 - val_loss: 3.9454\n",
      "ok\n"
     ]
    },
    {
     "data": {
      "image/png": "[encoded data removed]",
      "text/plain": [
       "<PIL.Image.Image image mode=RGB size=80x45 at 0x7F16E9F40C50>"
      ]
     },
     "metadata": {},
     "output_type": "display_data"
    },
    {
     "data": {
      "image/png": "[encoded data removed]",
      "text/plain": [
       "<PIL.Image.Image image mode=RGB size=80x45 at 0x7F16E9F40D68>"
      ]
     },
     "metadata": {},
     "output_type": "display_data"
    }
   ],
   "source": [
    "trainer.train()"
   ]
  },
  {
   "cell_type": "markdown",
   "metadata": {},
   "source": [
    "## Prediction"
   ]
  },
  {
   "cell_type": "code",
   "execution_count": 31,
   "metadata": {},
   "outputs": [],
   "source": [
    "from iss.tools.tools import Tools "
   ]
  },
  {
   "cell_type": "code",
   "execution_count": 33,
   "metadata": {},
   "outputs": [],
   "source": [
    "sample = data_loader.get_test_generator().next()[0][1]"
   ]
  },
  {
   "cell_type": "code",
   "execution_count": 34,
   "metadata": {},
   "outputs": [],
   "source": [
    "prediction = model.predict_one(x = sample)"
   ]
  },
  {
   "cell_type": "code",
   "execution_count": 35,
   "metadata": {},
   "outputs": [
    {
     "data": {
      "image/png": "[encoded data removed]",
      "text/plain": [
       "<PIL.Image.Image image mode=RGB size=80x45 at 0x7F16E9F1A400>"
      ]
     },
     "execution_count": 35,
     "metadata": {},
     "output_type": "execute_result"
    }
   ],
   "source": [
    "Tools.display_one_picture_scaled(sample)"
   ]
  },
  {
   "cell_type": "code",
   "execution_count": 36,
   "metadata": {},
   "outputs": [
    {
     "data": {
      "image/png": "[encoded data removed]",
      "text/plain": [
       "<PIL.Image.Image image mode=RGB size=80x45 at 0x7F16E9F1A128>"
      ]
     },
     "execution_count": 36,
     "metadata": {},
     "output_type": "execute_result"
    }
   ],
   "source": [
    "Tools.display_index_picture_scaled(prediction)"
   ]
  },
  {
   "cell_type": "code",
   "execution_count": 37,
   "metadata": {},
   "outputs": [
    {
     "data": {
      "text/plain": [
       "array([[[[  9.29346570e-05,   8.98255530e-05,   9.10840463e-05],\n",
       "         [  9.24957130e-05,   8.69057039e-05,   9.48583547e-05],\n",
       "         [  9.25923814e-05,   9.37460136e-05,   9.16876670e-05],\n",
       "         ..., \n",
       "         [  9.72924754e-05,   9.01218809e-05,   9.07215144e-05],\n",
       "         [  8.95589183e-05,   9.17836296e-05,   9.02524989e-05],\n",
       "         [  9.32235635e-05,   9.47016451e-05,   9.11756142e-05]],\n",
       "\n",
       "        [[  9.44539206e-05,   9.08145885e-05,   9.35679709e-05],\n",
       "         [  9.06047280e-05,   8.93754986e-05,   9.36847937e-05],\n",
       "         [  9.12203177e-05,   9.15631317e-05,   9.22772961e-05],\n",
       "         ..., \n",
       "         [  9.03476830e-05,   9.41506369e-05,   9.19400118e-05],\n",
       "         [  9.54698262e-05,   9.56243603e-05,   9.01497115e-05],\n",
       "         [  9.08325746e-05,   9.22526378e-05,   9.67690648e-05]],\n",
       "\n",
       "        [[  9.75354778e-05,   9.62107879e-05,   9.33410265e-05],\n",
       "         [  9.07929862e-05,   9.04788467e-05,   9.17322686e-05],\n",
       "         [  9.03079417e-05,   9.44491185e-05,   9.32097464e-05],\n",
       "         ..., \n",
       "         [  9.64030842e-05,   9.21978717e-05,   9.25744753e-05],\n",
       "         [  9.29698217e-05,   9.10726303e-05,   9.48995221e-05],\n",
       "         [  9.55267460e-05,   9.14257762e-05,   9.13872645e-05]],\n",
       "\n",
       "        ..., \n",
       "        [[  9.43425621e-05,   8.91427480e-05,   9.57405864e-05],\n",
       "         [  9.73207134e-05,   9.43527630e-05,   9.58818273e-05],\n",
       "         [  9.58043602e-05,   9.36572978e-05,   8.99789084e-05],\n",
       "         ..., \n",
       "         [  9.33905685e-05,   9.14029151e-05,   9.26123321e-05],\n",
       "         [  9.01690219e-05,   9.53693379e-05,   9.11882526e-05],\n",
       "         [  9.13038821e-05,   8.71358206e-05,   9.15639248e-05]],\n",
       "\n",
       "        [[  9.18796868e-05,   9.30848983e-05,   9.20263992e-05],\n",
       "         [  8.88295326e-05,   9.11370516e-05,   9.00926607e-05],\n",
       "         [  9.69637622e-05,   8.97215723e-05,   9.01956664e-05],\n",
       "         ..., \n",
       "         [  9.22475519e-05,   9.00504892e-05,   9.20245875e-05],\n",
       "         [  8.98239523e-05,   9.11542447e-05,   9.47700828e-05],\n",
       "         [  9.55717333e-05,   9.17145953e-05,   9.02576721e-05]],\n",
       "\n",
       "        [[  9.10112358e-05,   9.42766128e-05,   8.98375292e-05],\n",
       "         [  9.17554207e-05,   9.20126913e-05,   9.06156056e-05],\n",
       "         [  9.30430760e-05,   9.51249895e-05,   9.26310167e-05],\n",
       "         ..., \n",
       "         [  9.62113336e-05,   9.31859176e-05,   9.16533099e-05],\n",
       "         [  9.47599619e-05,   9.40426253e-05,   9.60465622e-05],\n",
       "         [  8.99810038e-05,   9.24791093e-05,   9.42508268e-05]]]], dtype=float32)"
      ]
     },
     "execution_count": 37,
     "metadata": {},
     "output_type": "execute_result"
    }
   ],
   "source": [
    "prediction"
   ]
  },
  {
   "cell_type": "code",
   "execution_count": null,
   "metadata": {},
   "outputs": [],
   "source": []
  }
 ],
 "metadata": {
  "kernelspec": {
   "display_name": "Python 3",
   "language": "python",
   "name": "python3"
  },
  "language_info": {
   "codemirror_mode": {
    "name": "ipython",
    "version": 3
   },
   "file_extension": ".py",
   "mimetype": "text/x-python",
   "name": "python",
   "nbconvert_exporter": "python",
   "pygments_lexer": "ipython3",
   "version": "3.6.8"
  }
 },
 "nbformat": 4,
 "nbformat_minor": 2
}
