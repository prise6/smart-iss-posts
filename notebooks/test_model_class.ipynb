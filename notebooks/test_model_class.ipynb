{
 "cells": [
  {
   "cell_type": "code",
   "execution_count": 17,
   "metadata": {},
   "outputs": [],
   "source": [
    "import os\n",
    "os.chdir(os.getcwd() + '/..')"
   ]
  },
  {
   "cell_type": "code",
   "execution_count": 18,
   "metadata": {},
   "outputs": [
    {
     "name": "stdout",
     "output_type": "stream",
     "text": [
      "The autoreload extension is already loaded. To reload it, use:\n",
      "  %reload_ext autoreload\n"
     ]
    }
   ],
   "source": [
    "%load_ext autoreload\n",
    "%autoreload 2"
   ]
  },
  {
   "cell_type": "code",
   "execution_count": 110,
   "metadata": {},
   "outputs": [],
   "source": [
    "from iss.tools import Config\n",
    "from iss.tools import Tools\n",
    "from iss.models import SimpleAutoEncoder\n",
    "from iss.models import SimpleConvAutoEncoder\n",
    "from iss.models import VarAutoEncoder\n",
    "from iss.models import VarConvAutoEncoder\n",
    "from iss.models.ModelTrainer import ModelTrainer\n",
    "import pandas as pd\n",
    "import datetime as dt\n",
    "import time\n",
    "import numpy as np\n",
    "from dotenv import find_dotenv, load_dotenv"
   ]
  },
  {
   "cell_type": "code",
   "execution_count": 20,
   "metadata": {},
   "outputs": [],
   "source": [
    "load_dotenv(find_dotenv())\n",
    "cfg = Config(project_dir = os.getenv(\"PROJECT_DIR\"), mode = os.getenv(\"MODE\"))\n",
    "model_type = 'simple_conv'"
   ]
  },
  {
   "cell_type": "markdown",
   "metadata": {},
   "source": [
    "## Model"
   ]
  },
  {
   "cell_type": "code",
   "execution_count": 82,
   "metadata": {},
   "outputs": [],
   "source": [
    "# model = VarAutoEncoder(cfg.get('models')[model_type])\n",
    "model = SimpleConvAutoEncoder(cfg.get('models')[model_type])"
   ]
  },
  {
   "cell_type": "code",
   "execution_count": 23,
   "metadata": {},
   "outputs": [
    {
     "name": "stdout",
     "output_type": "stream",
     "text": [
      "_________________________________________________________________\n",
      "Layer (type)                 Output Shape              Param #   \n",
      "=================================================================\n",
      "input_3 (InputLayer)         (None, 27, 48, 3)         0         \n",
      "_________________________________________________________________\n",
      "encoder (Model)              (None, 3, 6, 16)          25328     \n",
      "_________________________________________________________________\n",
      "decoder (Model)              (None, 27, 48, 3)         13468463  \n",
      "=================================================================\n",
      "Total params: 13,493,791\n",
      "Trainable params: 13,493,337\n",
      "Non-trainable params: 454\n",
      "_________________________________________________________________\n"
     ]
    }
   ],
   "source": [
    "model.model.summary()"
   ]
  },
  {
   "cell_type": "code",
   "execution_count": 24,
   "metadata": {},
   "outputs": [
    {
     "name": "stdout",
     "output_type": "stream",
     "text": [
      "_________________________________________________________________\n",
      "Layer (type)                 Output Shape              Param #   \n",
      "=================================================================\n",
      "input_3 (InputLayer)         (None, 27, 48, 3)         0         \n",
      "_________________________________________________________________\n",
      "enc_conv_1 (Conv2D)          (None, 27, 48, 64)        1792      \n",
      "_________________________________________________________________\n",
      "batch_normalization_8 (Batch (None, 27, 48, 64)        256       \n",
      "_________________________________________________________________\n",
      "activation_7 (Activation)    (None, 27, 48, 64)        0         \n",
      "_________________________________________________________________\n",
      "max_pooling2d_4 (MaxPooling2 (None, 13, 24, 64)        0         \n",
      "_________________________________________________________________\n",
      "enc_conv_2 (Conv2D)          (None, 13, 24, 32)        18464     \n",
      "_________________________________________________________________\n",
      "batch_normalization_9 (Batch (None, 13, 24, 32)        128       \n",
      "_________________________________________________________________\n",
      "activation_8 (Activation)    (None, 13, 24, 32)        0         \n",
      "_________________________________________________________________\n",
      "max_pooling2d_5 (MaxPooling2 (None, 6, 12, 32)         0         \n",
      "_________________________________________________________________\n",
      "enc_conv_3 (Conv2D)          (None, 6, 12, 16)         4624      \n",
      "_________________________________________________________________\n",
      "batch_normalization_10 (Batc (None, 6, 12, 16)         64        \n",
      "_________________________________________________________________\n",
      "activation_9 (Activation)    (None, 6, 12, 16)         0         \n",
      "_________________________________________________________________\n",
      "max_pooling2d_6 (MaxPooling2 (None, 3, 6, 16)          0         \n",
      "=================================================================\n",
      "Total params: 25,328\n",
      "Trainable params: 25,104\n",
      "Non-trainable params: 224\n",
      "_________________________________________________________________\n"
     ]
    }
   ],
   "source": [
    "model.encoder_model.summary()"
   ]
  },
  {
   "cell_type": "code",
   "execution_count": 25,
   "metadata": {},
   "outputs": [],
   "source": [
    "model.save()"
   ]
  },
  {
   "cell_type": "markdown",
   "metadata": {},
   "source": [
    "## Collection Manager"
   ]
  },
  {
   "cell_type": "code",
   "execution_count": 26,
   "metadata": {},
   "outputs": [],
   "source": [
    "from iss.data.CollectionManager import CollectionManagerFromDirectory"
   ]
  },
  {
   "cell_type": "code",
   "execution_count": 27,
   "metadata": {},
   "outputs": [],
   "source": [
    "collection = CollectionManagerFromDirectory(config = cfg)"
   ]
  },
  {
   "cell_type": "markdown",
   "metadata": {},
   "source": [
    "## Data Loader"
   ]
  },
  {
   "cell_type": "code",
   "execution_count": 67,
   "metadata": {},
   "outputs": [],
   "source": [
    "from iss.models.DataLoader import ImageDataGeneratorWrapper"
   ]
  },
  {
   "cell_type": "code",
   "execution_count": 72,
   "metadata": {},
   "outputs": [
    {
     "name": "stdout",
     "output_type": "stream",
     "text": [
      "Found 9537 images belonging to 1 classes.\n",
      "Found 2725 images belonging to 1 classes.\n"
     ]
    }
   ],
   "source": [
    "data_loader = ImageDataGeneratorWrapper(cfg, model = model_type)"
   ]
  },
  {
   "cell_type": "code",
   "execution_count": 113,
   "metadata": {},
   "outputs": [],
   "source": []
  },
  {
   "cell_type": "code",
   "execution_count": 114,
   "metadata": {},
   "outputs": [
    {
     "data": {
      "text/plain": [
       "10911744"
      ]
     },
     "execution_count": 114,
     "metadata": {},
     "output_type": "execute_result"
    }
   ],
   "source": []
  },
  {
   "cell_type": "code",
   "execution_count": 115,
   "metadata": {},
   "outputs": [
    {
     "data": {
      "text/plain": [
       "(9472, 3, 6, 16)"
      ]
     },
     "execution_count": 115,
     "metadata": {},
     "output_type": "execute_result"
    }
   ],
   "source": [
    "preds.shape"
   ]
  },
  {
   "cell_type": "markdown",
   "metadata": {},
   "source": [
    "## Model Trainer"
   ]
  },
  {
   "cell_type": "code",
   "execution_count": 31,
   "metadata": {},
   "outputs": [],
   "source": [
    "trainer2 = ModelTrainer(model, data_loader, cfg.get('models')[model_type], callbacks=[])"
   ]
  },
  {
   "cell_type": "code",
   "execution_count": 15,
   "metadata": {},
   "outputs": [
    {
     "data": {
      "text/plain": [
       "[<keras.callbacks.CSVLogger at 0x7fb0feab8d68>,\n",
       " <keras.callbacks.ModelCheckpoint at 0x7fb0feab8be0>,\n",
       " <iss.models.Callbacks.DisplayPictureCallback at 0x7fb0feab82e8>]"
      ]
     },
     "execution_count": 15,
     "metadata": {},
     "output_type": "execute_result"
    }
   ],
   "source": [
    "trainer2.callbacks"
   ]
  },
  {
   "cell_type": "code",
   "execution_count": 16,
   "metadata": {},
   "outputs": [
    {
     "name": "stdout",
     "output_type": "stream",
     "text": [
      "2.2.4\n",
      "Epoch 1/3\n",
      "20/20 [==============================] - 66s 3s/step - loss: 0.5066 - val_loss: 0.6479\n",
      "ok\n"
     ]
    },
    {
     "data": {
      "image/png": "[encoded data removed]",
      "text/plain": [
       "<PIL.Image.Image image mode=RGB size=48x27 at 0x7FB0FC2685F8>"
      ]
     },
     "metadata": {},
     "output_type": "display_data"
    },
    {
     "data": {
      "image/png": "[encoded data removed]",
      "text/plain": [
       "<PIL.Image.Image image mode=RGB size=48x27 at 0x7FB0FC268B38>"
      ]
     },
     "metadata": {},
     "output_type": "display_data"
    },
    {
     "name": "stdout",
     "output_type": "stream",
     "text": [
      "Epoch 2/3\n",
      "20/20 [==============================] - 48s 2s/step - loss: 0.4333 - val_loss: 0.5987\n",
      "ok\n"
     ]
    },
    {
     "data": {
      "image/png": "[encoded data removed]",
      "text/plain": [
       "<PIL.Image.Image image mode=RGB size=48x27 at 0x7FB0FC2685F8>"
      ]
     },
     "metadata": {},
     "output_type": "display_data"
    },
    {
     "data": {
      "image/png": "[encoded data removed]",
      "text/plain": [
       "<PIL.Image.Image image mode=RGB size=48x27 at 0x7FB0FC2682E8>"
      ]
     },
     "metadata": {},
     "output_type": "display_data"
    },
    {
     "name": "stdout",
     "output_type": "stream",
     "text": [
      "Epoch 3/3\n",
      "20/20 [==============================] - 48s 2s/step - loss: 0.4231 - val_loss: 0.4515\n",
      "ok\n"
     ]
    },
    {
     "data": {
      "image/png": "[encoded data removed]",
      "text/plain": [
       "<PIL.Image.Image image mode=RGB size=48x27 at 0x7FB0FC268668>"
      ]
     },
     "metadata": {},
     "output_type": "display_data"
    },
    {
     "data": {
      "image/png": "[encoded data removed]",
      "text/plain": [
       "<PIL.Image.Image image mode=RGB size=48x27 at 0x7FB0FC2682E8>"
      ]
     },
     "metadata": {},
     "output_type": "display_data"
    }
   ],
   "source": [
    "trainer2.train()"
   ]
  },
  {
   "cell_type": "markdown",
   "metadata": {},
   "source": [
    "### Prediction"
   ]
  },
  {
   "cell_type": "code",
   "execution_count": 32,
   "metadata": {},
   "outputs": [],
   "source": [
    "from iss.tools.tools import Tools "
   ]
  },
  {
   "cell_type": "code",
   "execution_count": 33,
   "metadata": {},
   "outputs": [],
   "source": [
    "sample = data_loader.get_test_generator().next()[0][1]"
   ]
  },
  {
   "cell_type": "code",
   "execution_count": 34,
   "metadata": {},
   "outputs": [],
   "source": [
    "prediction = model.predict_one(x = sample)"
   ]
  },
  {
   "cell_type": "code",
   "execution_count": 35,
   "metadata": {},
   "outputs": [
    {
     "data": {
      "image/png": "[encoded data removed]",
      "text/plain": [
       "<PIL.Image.Image image mode=RGB size=80x45 at 0x7FDC38132BE0>"
      ]
     },
     "execution_count": 35,
     "metadata": {},
     "output_type": "execute_result"
    }
   ],
   "source": [
    "Tools.display_one_picture_scaled(sample)"
   ]
  },
  {
   "cell_type": "code",
   "execution_count": 36,
   "metadata": {},
   "outputs": [
    {
     "data": {
      "image/png": "[encoded data removed]",
      "text/plain": [
       "<PIL.Image.Image image mode=RGB size=80x45 at 0x7FDC40091DD8>"
      ]
     },
     "execution_count": 36,
     "metadata": {},
     "output_type": "execute_result"
    }
   ],
   "source": [
    "Tools.display_index_picture_scaled(prediction)"
   ]
  },
  {
   "cell_type": "code",
   "execution_count": 38,
   "metadata": {},
   "outputs": [
    {
     "data": {
      "text/plain": [
       "array([[[   2.        ,    2.        ,    2.        ],\n",
       "        [   2.        ,    2.        ,    2.        ],\n",
       "        [   2.        ,    2.        ,    2.        ],\n",
       "        ..., \n",
       "        [  23.        ,   23.        ,   23.        ],\n",
       "        [  27.00000191,   21.        ,   21.        ],\n",
       "        [  76.        ,   71.        ,   75.        ]],\n",
       "\n",
       "       [[   2.        ,    2.        ,    2.        ],\n",
       "        [   2.        ,    2.        ,    2.        ],\n",
       "        [   2.        ,    2.        ,    2.        ],\n",
       "        ..., \n",
       "        [  65.        ,   59.00000381,   59.00000381],\n",
       "        [  72.        ,   67.        ,   71.        ],\n",
       "        [  91.        ,   89.        ,   92.        ]],\n",
       "\n",
       "       [[   2.        ,    2.        ,    2.        ],\n",
       "        [   3.00000024,    3.00000024,    3.00000024],\n",
       "        [   2.        ,    2.        ,    2.        ],\n",
       "        ..., \n",
       "        [  74.        ,   64.        ,   65.        ],\n",
       "        [  66.        ,   56.00000381,   57.00000381],\n",
       "        [  63.00000381,   58.00000381,   55.00000381]],\n",
       "\n",
       "       ..., \n",
       "       [[ 251.00001526,  254.00001526,  255.        ],\n",
       "        [ 248.00001526,  251.00001526,  255.        ],\n",
       "        [ 248.00001526,  249.00001526,  253.00001526],\n",
       "        ..., \n",
       "        [ 216.00001526,  228.00001526,  244.00001526],\n",
       "        [ 199.00001526,  215.00001526,  228.00001526],\n",
       "        [ 161.        ,  179.        ,  199.00001526]],\n",
       "\n",
       "       [[ 250.00001526,  255.        ,  255.        ],\n",
       "        [ 230.00001526,  239.00001526,  248.00001526],\n",
       "        [ 243.00001526,  251.00001526,  254.00001526],\n",
       "        ..., \n",
       "        [ 160.        ,  174.        ,  187.        ],\n",
       "        [ 154.        ,  166.        ,  180.        ],\n",
       "        [ 217.00001526,  231.00001526,  244.00001526]],\n",
       "\n",
       "       [[ 247.00001526,  255.        ,  255.        ],\n",
       "        [ 247.00001526,  255.        ,  255.        ],\n",
       "        [ 236.00001526,  243.00001526,  251.00001526],\n",
       "        ..., \n",
       "        [ 132.        ,  148.        ,  171.        ],\n",
       "        [ 182.        ,  198.00001526,  213.00001526],\n",
       "        [ 203.00001526,  210.00001526,  220.00001526]]], dtype=float32)"
      ]
     },
     "execution_count": 38,
     "metadata": {},
     "output_type": "execute_result"
    }
   ],
   "source": [
    "sample*255"
   ]
  },
  {
   "cell_type": "code",
   "execution_count": null,
   "metadata": {},
   "outputs": [],
   "source": []
  }
 ],
 "metadata": {
  "kernelspec": {
   "display_name": "Python 3",
   "language": "python",
   "name": "python3"
  },
  "language_info": {
   "codemirror_mode": {
    "name": "ipython",
    "version": 3
   },
   "file_extension": ".py",
   "mimetype": "text/x-python",
   "name": "python",
   "nbconvert_exporter": "python",
   "pygments_lexer": "ipython3",
   "version": "3.6.8"
  }
 },
 "nbformat": 4,
 "nbformat_minor": 2
}
